{
 "cells": [
  {
   "cell_type": "code",
   "execution_count": 39,
   "metadata": {},
   "outputs": [],
   "source": [
    "import nltk\n",
    "import pandas as pd\n",
    "import numpy as np\n",
    "import sklearn\n",
    "import string\n",
    "from nltk.tokenize import word_tokenize"
   ]
  },
  {
   "cell_type": "code",
   "execution_count": 40,
   "metadata": {},
   "outputs": [],
   "source": [
    "res = pd.read_csv('Data\\dataset.csv')\n",
    "domains = res['domain']\n",
    "text = res['text']"
   ]
  },
  {
   "cell_type": "code",
   "execution_count": 41,
   "metadata": {},
   "outputs": [
    {
     "name": "stdout",
     "output_type": "stream",
     "text": [
      "Technology 610\n",
      "History 347\n",
      "Story 2698\n",
      "News 1579\n",
      "Physic 140\n",
      "Economic 334\n",
      "Chemistry 152\n",
      "Biology 503\n",
      "Education 435\n",
      "Art 503\n",
      "Politics 303\n",
      "FirstP 330\n"
     ]
    }
   ],
   "source": [
    "print(\"Technology\", domains.eq('Technology').sum())\n",
    "print(\"History\", domains.eq('History').sum())\n",
    "print(\"Story\", domains.eq('Story').sum())\n",
    "print(\"News\", domains.eq('News').sum())\n",
    "print(\"Physic\", domains.eq('Physic').sum())\n",
    "print(\"Economic\", domains.eq('Economic').sum())\n",
    "print(\"Chemistry\", domains.eq('Chemistry').sum())\n",
    "print(\"Biology\", domains.eq('Biology').sum())\n",
    "print(\"Education\", domains.eq('Education').sum())\n",
    "print(\"Art\", domains.eq('Biology').sum())\n",
    "print(\"Politics\", domains.eq('Politics').sum())\n",
    "print(\"FirstP\", domains.eq('FirstP').sum())"
   ]
  },
  {
   "cell_type": "code",
   "execution_count": 42,
   "metadata": {},
   "outputs": [
    {
     "name": "stdout",
     "output_type": "stream",
     "text": [
      "['The', '<', 'e1', '>', 'child', '<', '/e1', '>', 'was', 'carefully', 'wrapped', 'and', 'bound', 'into', 'the', '<', 'e2', '>', 'cradle', '<', '/e2', '>', 'by', 'means', 'of', 'a', 'cord', '.']\n"
     ]
    }
   ],
   "source": [
    "def tokenize(w):\n",
    "    words = word_tokenize(w)\n",
    "    return words\n",
    "\n",
    "process = []\n",
    "for i in range(len(text)):\n",
    "    process.append(tokenize(text[i]))\n",
    "\n",
    "print(process[1])"
   ]
  },
  {
   "cell_type": "code",
   "execution_count": 35,
   "metadata": {},
   "outputs": [],
   "source": [
    "def startString(char, stringlist):\n",
    "    newlist = []\n",
    "    for string in stringlist:\n",
    "        if string.startswith(char):\n",
    "            newlist.append(string[1])\n",
    "    print (newlist)"
   ]
  },
  {
   "cell_type": "code",
   "execution_count": 43,
   "metadata": {},
   "outputs": [],
   "source": [
    "liste1 = []\n",
    "liste2 = []\n",
    "def addEntity(text):\n",
    "    for sentence in text:\n",
    "        for i in range(len(sentence)):\n",
    "            if (sentence[i]=='e1'):\n",
    "                liste1.append(sentence[i+2])\n",
    "            if (sentence[i]=='e2'):\n",
    "                liste2.append(sentence[i+2])                "
   ]
  },
  {
   "cell_type": "code",
   "execution_count": 44,
   "metadata": {},
   "outputs": [],
   "source": [
    "addEntity(process)\n",
    "res['entitiy1'] = liste1\n",
    "res['entitiy2'] = liste2"
   ]
  },
  {
   "cell_type": "code",
   "execution_count": 48,
   "metadata": {},
   "outputs": [
    {
     "name": "stdout",
     "output_type": "stream",
     "text": [
      "   id                  relation  \\\n",
      "0   1    Component-Whole(e2,e1)   \n",
      "1   2                     Other   \n",
      "2   3  Instrument-Agency(e2,e1)   \n",
      "3   4                     Other   \n",
      "4   5  Member-Collection(e1,e2)   \n",
      "\n",
      "                                             comment      domain  \\\n",
      "0  Comment: Not a collection: there is structure ...  Technology   \n",
      "1                                           Comment:       Story   \n",
      "2                                           Comment:  Technology   \n",
      "3                                           Comment:       Story   \n",
      "4                                           Comment:        News   \n",
      "\n",
      "                                                text       entitiy1  \\\n",
      "0  The system as described above has its greatest...  configuration   \n",
      "1  The <e1>child</e1> was carefully wrapped and b...          child   \n",
      "2  The <e1>author</e1> of a keygen uses a <e2>dis...         author   \n",
      "3  A misty <e1>ridge</e1> uprises from the <e2>su...          ridge   \n",
      "4  The <e1>student</e1> <e2>association</e2> is t...        student   \n",
      "\n",
      "       entitiy2  \n",
      "0      elements  \n",
      "1        cradle  \n",
      "2  disassembler  \n",
      "3         surge  \n",
      "4   association  \n"
     ]
    }
   ],
   "source": [
    "print(res.head())"
   ]
  },
  {
   "cell_type": "code",
   "execution_count": null,
   "metadata": {},
   "outputs": [],
   "source": []
  }
 ],
 "metadata": {
  "kernelspec": {
   "display_name": "Python 3",
   "language": "python",
   "name": "python3"
  },
  "language_info": {
   "codemirror_mode": {
    "name": "ipython",
    "version": 3
   },
   "file_extension": ".py",
   "mimetype": "text/x-python",
   "name": "python",
   "nbconvert_exporter": "python",
   "pygments_lexer": "ipython3",
   "version": "3.6.5"
  }
 },
 "nbformat": 4,
 "nbformat_minor": 2
}
