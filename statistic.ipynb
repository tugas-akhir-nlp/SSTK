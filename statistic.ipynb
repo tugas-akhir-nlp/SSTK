{
 "cells": [
  {
   "cell_type": "code",
   "execution_count": 3,
   "metadata": {},
   "outputs": [],
   "source": [
    "import nltk\n",
    "import pandas as pd\n",
    "import numpy as np\n",
    "import sklearn\n",
    "import string\n",
    "from nltk.tokenize import word_tokenize\n",
    "from prettytable import PrettyTable\n",
    "from nltk import tag\n",
    "from nltk import chunk\n",
    "import os"
   ]
  },
  {
   "cell_type": "code",
   "execution_count": 4,
   "metadata": {},
   "outputs": [
    {
     "name": "stdout",
     "output_type": "stream",
     "text": [
      "The <e1>child</e1> was carefully wrapped and bound into the <e2>cradle</e2> by means of a cord.\n"
     ]
    }
   ],
   "source": [
    "res = pd.read_csv('Data\\dataset.csv')\n",
    "domains = res['domain']\n",
    "text = res['text']\n",
    "print(text[1])"
   ]
  },
  {
   "cell_type": "code",
   "execution_count": 5,
   "metadata": {},
   "outputs": [
    {
     "name": "stdout",
     "output_type": "stream",
     "text": [
      "['id', 'relation', 'comment', 'domain', 'text']\n"
     ]
    }
   ],
   "source": [
    "a = [x for x in res]\n",
    "print(a)"
   ]
  },
  {
   "cell_type": "code",
   "execution_count": 6,
   "metadata": {},
   "outputs": [],
   "source": [
    "df_Technology = res[res['domain'] == 'Technology']\n",
    "df_History = res[res['domain'] == 'History']\n",
    "df_Story = res[res['domain'] == 'Story']\n",
    "df_News = res[res['domain'] == 'News']\n",
    "df_Physic = res[res['domain'] == 'Physic']\n",
    "df_Economic = res[res['domain'] == 'Economic']\n",
    "df_Chemistry = res[res['domain'] == 'Chemistry']\n",
    "df_Biology = res[res['domain'] == 'Biology']\n",
    "df_Education = res[res['domain'] == 'Education']\n",
    "df_Art = res[res['domain'] == 'Art']\n",
    "df_Politics = res[res['domain'] == 'Politics']\n",
    "df_FirstP = res[res['domain'] == 'FirstP']"
   ]
  },
  {
   "cell_type": "code",
   "execution_count": 7,
   "metadata": {},
   "outputs": [],
   "source": [
    "def countTable(df):\n",
    "    x = PrettyTable()\n",
    "    x.field_names = [\"Domain\", \"Sum\"]\n",
    "\n",
    "    x.add_row([\"Cause-Effect\", len(df[df['relation']==\"Cause-Effect(e2,e1)\"]) + len(df[df['relation']==\"Cause-Effect(e1,e2)\"])])\n",
    "    x.add_row([\"Instrument-Agency\", len(df[df['relation']==\"Instrument-Agency(e2,e1)\"]) + len(df[df['relation']==\"Instrument-Agency(e1,e2)\"])])\n",
    "    x.add_row([\"Product-Producer\", len(df[df['relation']==\"Product-Producer(e2,e1)\"]) + len(df[df['relation']==\"Product-Producer(e1,e2)\"])])\n",
    "    x.add_row([\"Content-Container\", len(df[df['relation']==\"Content-Container(e2,e1)\"]) + len(df[df['relation']==\"Content-Container(e1,e2)\"])])\n",
    "    x.add_row([\"Entity-Origin\", len(df[df['relation']==\"Entity-Origin(e2,e1)\"]) + len(df[df['relation']==\"Entity-Origin(e1,e2)\"])])\n",
    "    x.add_row([\"Entity-Destination\", len(df[df['relation']==\"Entity-Destination(e2,e1)\"]) + len(df[df['relation']==\"Entity-Destination(e1,e2)\"])])\n",
    "    x.add_row([\"Component-Whole\", len(df[df['relation']==\"Component-Whole(e2,e1)\"]) + len(df[df['relation']==\"Component-Whole(e1,e2)\"])])\n",
    "    x.add_row([\"Member-Collection\", len(df[df['relation']==\"Member-Collection(e2,e1)\"]) + len(df[df['relation']==\"Member-Collection(e1,e2)\"])])\n",
    "    x.add_row([\"Message-Topic\", len(df[df['relation']==\"Message-Topic(e2,e1)\"]) + len(df[df['relation']==\"Message-Topic(e1,e2)\"])])\n",
    "    x.add_row([\"Other\", len(df[df['relation']==\"Other\"])])\n",
    "\n",
    "    print(len(df))\n",
    "    print(x)"
   ]
  },
  {
   "cell_type": "code",
   "execution_count": 8,
   "metadata": {},
   "outputs": [
    {
     "name": "stdout",
     "output_type": "stream",
     "text": [
      "Technology\n",
      "610\n",
      "+--------------------+-----+\n",
      "|       Domain       | Sum |\n",
      "+--------------------+-----+\n",
      "|    Cause-Effect    |  45 |\n",
      "| Instrument-Agency  |  77 |\n",
      "|  Product-Producer  |  58 |\n",
      "| Content-Container  |  33 |\n",
      "|   Entity-Origin    |  20 |\n",
      "| Entity-Destination |  72 |\n",
      "|  Component-Whole   | 144 |\n",
      "| Member-Collection  |  18 |\n",
      "|   Message-Topic    |  36 |\n",
      "|       Other        | 107 |\n",
      "+--------------------+-----+\n"
     ]
    }
   ],
   "source": [
    "print('Technology')\n",
    "countTable(df_Technology)"
   ]
  },
  {
   "cell_type": "code",
   "execution_count": 9,
   "metadata": {},
   "outputs": [
    {
     "name": "stdout",
     "output_type": "stream",
     "text": [
      "History\n",
      "347\n",
      "+--------------------+-----+\n",
      "|       Domain       | Sum |\n",
      "+--------------------+-----+\n",
      "|    Cause-Effect    |  36 |\n",
      "| Instrument-Agency  |  11 |\n",
      "|  Product-Producer  |  48 |\n",
      "| Content-Container  |  14 |\n",
      "|   Entity-Origin    |  55 |\n",
      "| Entity-Destination |  11 |\n",
      "|  Component-Whole   |  14 |\n",
      "| Member-Collection  |  54 |\n",
      "|   Message-Topic    |  51 |\n",
      "|       Other        |  53 |\n",
      "+--------------------+-----+\n"
     ]
    }
   ],
   "source": [
    "print('History')\n",
    "countTable(df_History)"
   ]
  },
  {
   "cell_type": "code",
   "execution_count": 10,
   "metadata": {},
   "outputs": [
    {
     "name": "stdout",
     "output_type": "stream",
     "text": [
      "Story\n",
      "2698\n",
      "+--------------------+-----+\n",
      "|       Domain       | Sum |\n",
      "+--------------------+-----+\n",
      "|    Cause-Effect    | 195 |\n",
      "| Instrument-Agency  | 179 |\n",
      "|  Product-Producer  | 162 |\n",
      "| Content-Container  | 271 |\n",
      "|   Entity-Origin    | 281 |\n",
      "| Entity-Destination | 298 |\n",
      "|  Component-Whole   | 398 |\n",
      "| Member-Collection  | 296 |\n",
      "|   Message-Topic    | 145 |\n",
      "|       Other        | 473 |\n",
      "+--------------------+-----+\n"
     ]
    }
   ],
   "source": [
    "\n",
    "print('Story')\n",
    "countTable(df_Story)"
   ]
  },
  {
   "cell_type": "code",
   "execution_count": 11,
   "metadata": {},
   "outputs": [
    {
     "name": "stdout",
     "output_type": "stream",
     "text": [
      "News\n",
      "1579\n",
      "+--------------------+-----+\n",
      "|       Domain       | Sum |\n",
      "+--------------------+-----+\n",
      "|    Cause-Effect    | 279 |\n",
      "| Instrument-Agency  |  72 |\n",
      "|  Product-Producer  | 134 |\n",
      "| Content-Container  | 102 |\n",
      "|   Entity-Origin    | 141 |\n",
      "| Entity-Destination | 218 |\n",
      "|  Component-Whole   |  75 |\n",
      "| Member-Collection  | 112 |\n",
      "|   Message-Topic    | 152 |\n",
      "|       Other        | 294 |\n",
      "+--------------------+-----+\n"
     ]
    }
   ],
   "source": [
    "\n",
    "print('News')\n",
    "countTable(df_News)"
   ]
  },
  {
   "cell_type": "code",
   "execution_count": 12,
   "metadata": {},
   "outputs": [
    {
     "name": "stdout",
     "output_type": "stream",
     "text": [
      "Physic\n",
      "140\n",
      "+--------------------+-----+\n",
      "|       Domain       | Sum |\n",
      "+--------------------+-----+\n",
      "|    Cause-Effect    |  43 |\n",
      "| Instrument-Agency  |  11 |\n",
      "|  Product-Producer  |  2  |\n",
      "| Content-Container  |  7  |\n",
      "|   Entity-Origin    |  20 |\n",
      "| Entity-Destination |  3  |\n",
      "|  Component-Whole   |  28 |\n",
      "| Member-Collection  |  3  |\n",
      "|   Message-Topic    |  1  |\n",
      "|       Other        |  22 |\n",
      "+--------------------+-----+\n"
     ]
    }
   ],
   "source": [
    "\n",
    "print('Physic')\n",
    "countTable(df_Physic)"
   ]
  },
  {
   "cell_type": "code",
   "execution_count": 13,
   "metadata": {},
   "outputs": [
    {
     "name": "stdout",
     "output_type": "stream",
     "text": [
      "Economic\n",
      "334\n",
      "+--------------------+-----+\n",
      "|       Domain       | Sum |\n",
      "+--------------------+-----+\n",
      "|    Cause-Effect    |  58 |\n",
      "| Instrument-Agency  |  12 |\n",
      "|  Product-Producer  |  55 |\n",
      "| Content-Container  |  4  |\n",
      "|   Entity-Origin    |  13 |\n",
      "| Entity-Destination |  63 |\n",
      "|  Component-Whole   |  11 |\n",
      "| Member-Collection  |  24 |\n",
      "|   Message-Topic    |  18 |\n",
      "|       Other        |  76 |\n",
      "+--------------------+-----+\n"
     ]
    }
   ],
   "source": [
    "print('Economic')\n",
    "countTable(df_Economic)"
   ]
  },
  {
   "cell_type": "code",
   "execution_count": 14,
   "metadata": {},
   "outputs": [
    {
     "name": "stdout",
     "output_type": "stream",
     "text": [
      "Chemistry\n",
      "152\n",
      "+--------------------+-----+\n",
      "|       Domain       | Sum |\n",
      "+--------------------+-----+\n",
      "|    Cause-Effect    |  34 |\n",
      "| Instrument-Agency  |  6  |\n",
      "|  Product-Producer  |  7  |\n",
      "| Content-Container  |  19 |\n",
      "|   Entity-Origin    |  23 |\n",
      "| Entity-Destination |  22 |\n",
      "|  Component-Whole   |  12 |\n",
      "| Member-Collection  |  2  |\n",
      "|   Message-Topic    |  0  |\n",
      "|       Other        |  27 |\n",
      "+--------------------+-----+\n"
     ]
    }
   ],
   "source": [
    "print('Chemistry')\n",
    "countTable(df_Chemistry)"
   ]
  },
  {
   "cell_type": "code",
   "execution_count": 15,
   "metadata": {},
   "outputs": [
    {
     "name": "stdout",
     "output_type": "stream",
     "text": [
      "Biology\n",
      "503\n",
      "+--------------------+-----+\n",
      "|       Domain       | Sum |\n",
      "+--------------------+-----+\n",
      "|    Cause-Effect    | 175 |\n",
      "| Instrument-Agency  |  21 |\n",
      "|  Product-Producer  |  32 |\n",
      "| Content-Container  |  9  |\n",
      "|   Entity-Origin    |  45 |\n",
      "| Entity-Destination |  49 |\n",
      "|  Component-Whole   |  81 |\n",
      "| Member-Collection  |  25 |\n",
      "|   Message-Topic    |  8  |\n",
      "|       Other        |  58 |\n",
      "+--------------------+-----+\n"
     ]
    }
   ],
   "source": [
    "\n",
    "print('Biology')\n",
    "countTable(df_Biology)"
   ]
  },
  {
   "cell_type": "code",
   "execution_count": 16,
   "metadata": {},
   "outputs": [
    {
     "name": "stdout",
     "output_type": "stream",
     "text": [
      "Education\n",
      "435\n",
      "+--------------------+-----+\n",
      "|       Domain       | Sum |\n",
      "+--------------------+-----+\n",
      "|    Cause-Effect    |  55 |\n",
      "| Instrument-Agency  |  37 |\n",
      "|  Product-Producer  |  36 |\n",
      "| Content-Container  |  10 |\n",
      "|   Entity-Origin    |  37 |\n",
      "| Entity-Destination |  22 |\n",
      "|  Component-Whole   |  60 |\n",
      "| Member-Collection  |  23 |\n",
      "|   Message-Topic    |  65 |\n",
      "|       Other        |  90 |\n",
      "+--------------------+-----+\n"
     ]
    }
   ],
   "source": [
    "\n",
    "print('Education')\n",
    "countTable(df_Education)"
   ]
  },
  {
   "cell_type": "code",
   "execution_count": 17,
   "metadata": {},
   "outputs": [
    {
     "name": "stdout",
     "output_type": "stream",
     "text": [
      "Art\n",
      "560\n",
      "+--------------------+-----+\n",
      "|       Domain       | Sum |\n",
      "+--------------------+-----+\n",
      "|    Cause-Effect    |  22 |\n",
      "| Instrument-Agency  |  48 |\n",
      "|  Product-Producer  | 129 |\n",
      "| Content-Container  |  13 |\n",
      "|   Entity-Origin    |  35 |\n",
      "| Entity-Destination |  19 |\n",
      "|  Component-Whole   |  67 |\n",
      "| Member-Collection  |  36 |\n",
      "|   Message-Topic    | 101 |\n",
      "|       Other        |  90 |\n",
      "+--------------------+-----+\n"
     ]
    }
   ],
   "source": [
    "print('Art')\n",
    "countTable(df_Art)"
   ]
  },
  {
   "cell_type": "code",
   "execution_count": 18,
   "metadata": {},
   "outputs": [
    {
     "name": "stdout",
     "output_type": "stream",
     "text": [
      "Politics\n",
      "303\n",
      "+--------------------+-----+\n",
      "|       Domain       | Sum |\n",
      "+--------------------+-----+\n",
      "|    Cause-Effect    |  27 |\n",
      "| Instrument-Agency  |  17 |\n",
      "|  Product-Producer  |  37 |\n",
      "| Content-Container  |  3  |\n",
      "|   Entity-Origin    |  18 |\n",
      "| Entity-Destination |  23 |\n",
      "|  Component-Whole   |  4  |\n",
      "| Member-Collection  |  50 |\n",
      "|   Message-Topic    |  51 |\n",
      "|       Other        |  73 |\n",
      "+--------------------+-----+\n"
     ]
    }
   ],
   "source": [
    "print('Politics')\n",
    "countTable(df_Politics)"
   ]
  },
  {
   "cell_type": "code",
   "execution_count": 19,
   "metadata": {},
   "outputs": [
    {
     "name": "stdout",
     "output_type": "stream",
     "text": [
      "FirstP\n",
      "330\n",
      "+--------------------+-----+\n",
      "|       Domain       | Sum |\n",
      "+--------------------+-----+\n",
      "|    Cause-Effect    |  30 |\n",
      "| Instrument-Agency  |  13 |\n",
      "|  Product-Producer  |  17 |\n",
      "| Content-Container  |  54 |\n",
      "|   Entity-Origin    |  28 |\n",
      "| Entity-Destination |  45 |\n",
      "|  Component-Whole   |  45 |\n",
      "| Member-Collection  |  46 |\n",
      "|   Message-Topic    |  6  |\n",
      "|       Other        |  46 |\n",
      "+--------------------+-----+\n"
     ]
    }
   ],
   "source": [
    "\n",
    "print('FirstP')\n",
    "countTable(df_FirstP)"
   ]
  },
  {
   "cell_type": "code",
   "execution_count": 20,
   "metadata": {},
   "outputs": [
    {
     "name": "stdout",
     "output_type": "stream",
     "text": [
      "['The', '<', 'e1', '>', 'child', '<', '/e1', '>', 'was', 'carefully', 'wrapped', 'and', 'bound', 'into', 'the', '<', 'e2', '>', 'cradle', '<', '/e2', '>', 'by', 'means', 'of', 'a', 'cord', '.']\n"
     ]
    }
   ],
   "source": [
    "def tokenize(w):\n",
    "    words = word_tokenize(w)\n",
    "    return words\n",
    "process = []\n",
    "for i in range(len(text)):\n",
    "    process.append(tokenize(text[i]))\n",
    "\n",
    "print(process[1])"
   ]
  },
  {
   "cell_type": "code",
   "execution_count": 21,
   "metadata": {},
   "outputs": [],
   "source": [
    "def startString(char, stringlist):\n",
    "    newlist = []\n",
    "    for string in stringlist:\n",
    "        if string.startswith(char):\n",
    "            newlist.append(string[1])\n",
    "    print (newlist)"
   ]
  },
  {
   "cell_type": "code",
   "execution_count": 22,
   "metadata": {},
   "outputs": [],
   "source": [
    "liste1 = []\n",
    "liste2 = []\n",
    "def addEntity(text):\n",
    "    for sentence in text:\n",
    "        for i in range(len(sentence)):\n",
    "            if (sentence[i]=='e1'):\n",
    "                liste1.append(sentence[i+2])\n",
    "            if (sentence[i]=='e2'):\n",
    "                liste2.append(sentence[i+2])                "
   ]
  },
  {
   "cell_type": "code",
   "execution_count": 36,
   "metadata": {},
   "outputs": [],
   "source": [
    "addEntity(process)\n",
    "res['entitiy1'] = liste1\n",
    "res['entitiy2'] = liste2"
   ]
  },
  {
   "cell_type": "code",
   "execution_count": 37,
   "metadata": {},
   "outputs": [],
   "source": [
    "import re\n",
    "\n",
    "def removeTag(raw_html):\n",
    "    cleanr = re.compile('<e1>|</e1>|<e2>|</e2>')\n",
    "    cleantext = re.sub(cleanr, '', raw_html)\n",
    "    return cleantext\n",
    "\n",
    "preprocess = []\n",
    "\n",
    "for i in range(len(text)):\n",
    "    preprocess.append(removeTag(text[i]))\n",
    "\n",
    "text = preprocess"
   ]
  },
  {
   "cell_type": "code",
   "execution_count": 38,
   "metadata": {},
   "outputs": [],
   "source": [
    "res['new_text'] = text\n",
    "res.to_csv(\"text.csv\")"
   ]
  },
  {
   "cell_type": "code",
   "execution_count": null,
   "metadata": {},
   "outputs": [],
   "source": []
  },
  {
   "cell_type": "code",
   "execution_count": null,
   "metadata": {},
   "outputs": [],
   "source": []
  }
 ],
 "metadata": {
  "kernelspec": {
   "display_name": "Python 3",
   "language": "python",
   "name": "python3"
  },
  "language_info": {
   "codemirror_mode": {
    "name": "ipython",
    "version": 3
   },
   "file_extension": ".py",
   "mimetype": "text/x-python",
   "name": "python",
   "nbconvert_exporter": "python",
   "pygments_lexer": "ipython3",
   "version": "3.6.5"
  }
 },
 "nbformat": 4,
 "nbformat_minor": 2
}
