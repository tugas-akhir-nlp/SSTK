{
 "cells": [
  {
   "cell_type": "code",
   "execution_count": 1,
   "metadata": {},
   "outputs": [],
   "source": [
    "import pandas as pd\n",
    "from pycorenlp import StanfordCoreNLP \n",
    "import TreeBuild as tb\n",
    "import pickle\n",
    "import json, os\n",
    "import sys\n",
    "import gzip"
   ]
  },
  {
   "cell_type": "code",
   "execution_count": 2,
   "metadata": {},
   "outputs": [
    {
     "name": "stdout",
     "output_type": "stream",
     "text": [
      "Shape of base training File =  (5, 2)\n",
      "Shape of base training data after cleaning =  (5, 2)\n"
     ]
    }
   ],
   "source": [
    "def read_data(path_to_file):\n",
    "    df = pd.read_csv(path_to_file)\n",
    "    print (\"Shape of base training File = \", df.shape)\n",
    "    print(\"Shape of base training data after cleaning = \", df.shape)\n",
    "    return df\n",
    "# df_train = read_data(\"input/test_p4.csv\")\n",
    "df_train = read_data(\"text.csv\")"
   ]
  },
  {
   "cell_type": "code",
   "execution_count": 3,
   "metadata": {},
   "outputs": [],
   "source": [
    "def _getNLPToks_(rawSentence):\n",
    "    try:\n",
    "        output = nlp.annotate(rawSentence, properties={\n",
    "            'annotators': 'tokenize,ssplit,pos,parse,ner,depparse',\n",
    "            'outputFormat': 'json'\n",
    "        })\n",
    "    except UnicodeDecodeError:\n",
    "        sentence = unidecode(rawSentence)\n",
    "        output = nlp.annotate(sentence, properties={\n",
    "            'annotators': 'tokenize,ssplit,pos,parse,ner,depparse',\n",
    "            'outputFormat': 'json'\n",
    "        })\n",
    "        \n",
    "    dependencies = output['sentences'][0]['basicDependencies']\n",
    "    tokens = output['sentences'][0]['tokens']\n",
    "    parse = output['sentences'][0]['parse'].split(\"\\n\")\n",
    "    \n",
    "    return {'deps':dependencies,\n",
    "            'toks':tokens, \n",
    "            'parse':parse\n",
    "           }\n"
   ]
  },
  {
   "cell_type": "code",
   "execution_count": 16,
   "metadata": {},
   "outputs": [
    {
     "name": "stdout",
     "output_type": "stream",
     "text": [
      "0\n",
      "NLP Tree Generation completed!\n"
     ]
    }
   ],
   "source": [
    "if __name__ == \"__main__\":    \n",
    "    \n",
    "    nlp = StanfordCoreNLP('http://localhost:9000')\n",
    "    \n",
    "    with gzip.open('text.nlp', 'wb') as fout:\n",
    "        count = 0\n",
    "        for row in df_train.iterrows():\n",
    "            \n",
    "            if (count % 8000 == 0):\n",
    "                print(count)\n",
    "            \n",
    "            try: \n",
    "                q1_stanford = _getNLPToks_(row[1]['text'])\n",
    "                tree_1 = tb.tree()\n",
    "\n",
    "                # Generate a tree structure\n",
    "                tb._generateTree_(q1_stanford['parse'], tree_1)\n",
    "\n",
    "                # Flip the trees\n",
    "                tb._flipTree_(tree_1)\n",
    "\n",
    "                tmp = {'q1': {\n",
    "                        'raw': row[1]['text'],\n",
    "                        'toks': q1_stanford['toks'],\n",
    "                        'deps': q1_stanford['deps'],\n",
    "                        'parse': tree_1\n",
    "                        },\n",
    "                       'id':row[1]['id'],\n",
    "                       }\n",
    "\n",
    "                pickle.dump(tmp, fout, protocol=pickle.HIGHEST_PROTOCOL)\n",
    "\n",
    "                tree_1.clear()\n",
    "            except:\n",
    "                print(\"Failure on row: %d\" % count)\n",
    "                \n",
    "            count+=1\n",
    "    \n",
    "    print(\"NLP Tree Generation completed!\")"
   ]
  }
 ],
 "metadata": {
  "kernelspec": {
   "display_name": "Python 3",
   "language": "python",
   "name": "python3"
  },
  "language_info": {
   "codemirror_mode": {
    "name": "ipython",
    "version": 3
   },
   "file_extension": ".py",
   "mimetype": "text/x-python",
   "name": "python",
   "nbconvert_exporter": "python",
   "pygments_lexer": "ipython3",
   "version": "3.6.5"
  }
 },
 "nbformat": 4,
 "nbformat_minor": 1
}
