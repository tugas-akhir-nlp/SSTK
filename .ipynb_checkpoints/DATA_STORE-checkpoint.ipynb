{
 "cells": [
  {
   "cell_type": "code",
   "execution_count": 11,
   "metadata": {},
   "outputs": [],
   "source": [
    "import pandas as pd\n",
    "import TreeBuild as tb\n",
    "import pickle\n",
    "import json, os\n",
    "import sys\n",
    "import gzip\n",
    "from nltk.parse.corenlp import CoreNLPServer"
   ]
  },
  {
   "cell_type": "code",
   "execution_count": null,
   "metadata": {},
   "outputs": [],
   "source": [
    "java_path = \"C:/Program Files (x86)/Common Files/Oracle/Java/javapath/java.exe\"\n",
    "os.environ['JAVAHOME'] = java_path\n",
    "HOME = 'D:/Tugas Akhir/src/SSTK/Tools/stanford-corenlp-full-2018-10-05'\n",
    "\n",
    "server = CoreNLPServer(\n",
    "   os.path.join(HOME, \"stanford-corenlp-3.9.2.jar\"),\n",
    "   os.path.join(HOME, \"stanford-corenlp-3.9.2-models.jar\"),    \n",
    ")\n",
    "\n",
    "server.start()"
   ]
  },
  {
   "cell_type": "code",
   "execution_count": null,
   "metadata": {},
   "outputs": [],
   "source": [
    "parser = CoreNLPParser()\n",
    "parse = next(parser.raw_parse(text[1]))"
   ]
  },
  {
   "cell_type": "code",
   "execution_count": null,
   "metadata": {},
   "outputs": [],
   "source": []
  }
 ],
 "metadata": {
  "kernelspec": {
   "display_name": "Python 3",
   "language": "python",
   "name": "python3"
  },
  "language_info": {
   "codemirror_mode": {
    "name": "ipython",
    "version": 3
   },
   "file_extension": ".py",
   "mimetype": "text/x-python",
   "name": "python",
   "nbconvert_exporter": "python",
   "pygments_lexer": "ipython3",
   "version": "3.6.8"
  }
 },
 "nbformat": 4,
 "nbformat_minor": 2
}
